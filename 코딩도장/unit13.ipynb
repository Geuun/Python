{
 "cells": [
  {
   "cell_type": "markdown",
   "metadata": {},
   "source": [
    "# unit13 if조건문 사용하기"
   ]
  },
  {
   "cell_type": "markdown",
   "metadata": {},
   "source": [
    "- 조건문은 특정 조건일 때 코드를 실행하는 문법이다. 프로그램을 만들다 보면 여러가지 상황을 처리해야하는 경우가 생긴다. 이때 조건문은 다양한 상황에 대처할 때 사용한다.\n",
    "\n",
    "(참고) 의사 코드\n",
    "- 프로그래밍이나 컴퓨터 이론을 공부하다 보면 의사 코드(pseudo code) 라는 말을 접하게 된다. 의사 코드는 실제 프로그래밍 언어가 아닌 사람의 언어로 프로그래밍 언어를 표현한 것이다. 보통 특정 프로그래밍 언어를 사용하지 않고 알고리즘이나 컴퓨터 명령을 기술할 때 사용한다.\n",
    "\n",
    "```py\n",
    "x = 10    # 파이썬 코드\n",
    "변수 x에 10 할당    # 한글로 표현한 의사 코드\n",
    "```\n",
    "\n",
    "앞에서 if 조건문을 설명할 때 'if 비가 온다면', '우산을 가지고 나간다.' 또한 일종의 의사 코드이다."
   ]
  },
  {
   "cell_type": "markdown",
   "metadata": {},
   "source": [
    "if 조건문에서 코드를 생략하기\n",
    "\n",
    "```py\n",
    ">>> x = 10\n",
    ">>> if x == 10:\n",
    "...     pass\n",
    "...\n",
    ">>> \n",
    "```\n",
    "\n",
    "- if 다음 줄에 pass라는 키워드를 넣었다. 여기서 pass는 아무 일도 하지않고 그냥 넘어간다는 뜻이다. 파이썬에서는 if 다음 줄에 아무 코드도 넣지 않으면 에러가 발생하므로 if 조건문의 형태를 유지하기 위해 pass 를 사용한다.\n",
    "\n",
    "- pass 는 아무 일도 하지 않는 코드라서 의미가 없을 것 같지만 나중에 작성해야 할 코드를 표시할 때 사용할 수 있다.\n",
    "\n",
    "```py\n",
    "if x == 10:\n",
    "    pass    # TODO: x가 10일 때 처리가 필요함\n",
    "```\n",
    "\n",
    "(참고) TODO\n",
    "\n",
    "- TODO는 해야 할 일이라는 뜻으로 보통 주석에 넣는다. TODO를 주석에 넣어두면 검색으로 쉽게 찾을 수 있다. 그래서 프로그래머들은 주석에 TODO 이외에도 FIXME, BUG, NOTE 등 코드는 아니지만 일관된 주석을 사용한다."
   ]
  },
  {
   "cell_type": "markdown",
   "metadata": {},
   "source": [
    "중첩 조건문 사용하기\n",
    "\n",
    "- 지금까지 if를 한 번만 사용하는 단순한 조건문을 사용했다. 하지만 프로그래밍을 하다보면 if를 여러 번 사용하는 복잡한 조건도 자주 나온다. 이번에는 if를 여러번 사용하는 중첩 if 조건문을 사용해보자.\n",
    "\n",
    "```py\n",
    "x = 15\n",
    " \n",
    "if x >= 10:\n",
    "     print('10 이상입니다.')\n",
    " \n",
    "     if x == 15:\n",
    "         print('15입니다.')\n",
    " \n",
    "     if x == 20:\n",
    "         print('20입니다.')\n",
    "```"
   ]
  },
  {
   "cell_type": "code",
   "execution_count": 1,
   "metadata": {},
   "outputs": [
    {
     "name": "stdout",
     "output_type": "stream",
     "text": [
      "ok\n"
     ]
    }
   ],
   "source": [
    "x = 5\n",
    "\n",
    "if x != 10 :\n",
    "    print('ok')"
   ]
  },
  {
   "cell_type": "code",
   "execution_count": 5,
   "metadata": {},
   "outputs": [
    {
     "name": "stdout",
     "output_type": "stream",
     "text": [
      "67000\n"
     ]
    }
   ],
   "source": [
    "#표준 입력으로 가격(정수)과 쿠폰 이름이 각 줄에 입력됩니다. Cash3000 쿠폰은 3,000원, Cash5000 쿠폰은 5,000원을 할인합니다. 쿠폰에 따라 할인된 가격을 출력하는 프로그램을 만드세요(input에서 안내 문자열은 출력하지 않아야 합니다).\n",
    "\n",
    "price = int(input())\n",
    "coupon = str(input())\n",
    "\n",
    "if coupon == 'Cash5000':\n",
    "    total_price = price - 5000\n",
    "    \n",
    "elif coupon == 'Cash3000':\n",
    "    total_price = price - 3000\n",
    "    \n",
    "print(total_price)"
   ]
  }
 ],
 "metadata": {
  "interpreter": {
   "hash": "31f2aee4e71d21fbe5cf8b01ff0e069b9275f58929596ceb00d14d90e3e16cd6"
  },
  "kernelspec": {
   "display_name": "Python 3.8.9 64-bit",
   "language": "python",
   "name": "python3"
  },
  "language_info": {
   "codemirror_mode": {
    "name": "ipython",
    "version": 3
   },
   "file_extension": ".py",
   "mimetype": "text/x-python",
   "name": "python",
   "nbconvert_exporter": "python",
   "pygments_lexer": "ipython3",
   "version": "3.8.9"
  },
  "orig_nbformat": 4
 },
 "nbformat": 4,
 "nbformat_minor": 2
}
