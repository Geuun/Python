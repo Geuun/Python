{
 "cells": [
  {
   "cell_type": "markdown",
   "metadata": {},
   "source": [
    "# while 반복문으로 Hello, world! 100번 출력하기"
   ]
  },
  {
   "cell_type": "code",
   "execution_count": 1,
   "metadata": {},
   "outputs": [
    {
     "name": "stdout",
     "output_type": "stream",
     "text": [
      "Hello, world!\n",
      "Hello, world!\n",
      "Hello, world!\n",
      "Hello, world!\n",
      "Hello, world!\n",
      "Hello, world!\n",
      "Hello, world!\n",
      "Hello, world!\n",
      "Hello, world!\n",
      "Hello, world!\n",
      "Hello, world!\n",
      "Hello, world!\n",
      "Hello, world!\n",
      "Hello, world!\n",
      "Hello, world!\n",
      "Hello, world!\n",
      "Hello, world!\n",
      "Hello, world!\n",
      "Hello, world!\n",
      "Hello, world!\n",
      "Hello, world!\n",
      "Hello, world!\n",
      "Hello, world!\n",
      "Hello, world!\n",
      "Hello, world!\n",
      "Hello, world!\n",
      "Hello, world!\n",
      "Hello, world!\n",
      "Hello, world!\n",
      "Hello, world!\n",
      "Hello, world!\n",
      "Hello, world!\n",
      "Hello, world!\n",
      "Hello, world!\n",
      "Hello, world!\n",
      "Hello, world!\n",
      "Hello, world!\n",
      "Hello, world!\n",
      "Hello, world!\n",
      "Hello, world!\n",
      "Hello, world!\n",
      "Hello, world!\n",
      "Hello, world!\n",
      "Hello, world!\n",
      "Hello, world!\n",
      "Hello, world!\n",
      "Hello, world!\n",
      "Hello, world!\n",
      "Hello, world!\n",
      "Hello, world!\n",
      "Hello, world!\n",
      "Hello, world!\n",
      "Hello, world!\n",
      "Hello, world!\n",
      "Hello, world!\n",
      "Hello, world!\n",
      "Hello, world!\n",
      "Hello, world!\n",
      "Hello, world!\n",
      "Hello, world!\n",
      "Hello, world!\n",
      "Hello, world!\n",
      "Hello, world!\n",
      "Hello, world!\n",
      "Hello, world!\n",
      "Hello, world!\n",
      "Hello, world!\n",
      "Hello, world!\n",
      "Hello, world!\n",
      "Hello, world!\n",
      "Hello, world!\n",
      "Hello, world!\n",
      "Hello, world!\n",
      "Hello, world!\n",
      "Hello, world!\n",
      "Hello, world!\n",
      "Hello, world!\n",
      "Hello, world!\n",
      "Hello, world!\n",
      "Hello, world!\n",
      "Hello, world!\n",
      "Hello, world!\n",
      "Hello, world!\n",
      "Hello, world!\n",
      "Hello, world!\n",
      "Hello, world!\n",
      "Hello, world!\n",
      "Hello, world!\n",
      "Hello, world!\n",
      "Hello, world!\n",
      "Hello, world!\n",
      "Hello, world!\n",
      "Hello, world!\n",
      "Hello, world!\n",
      "Hello, world!\n",
      "Hello, world!\n",
      "Hello, world!\n",
      "Hello, world!\n",
      "Hello, world!\n",
      "Hello, world!\n"
     ]
    }
   ],
   "source": [
    "# while 반복문은 조건식으로만 동작하며 반복할 코드 안에 조건식에 영향을 주는 변화식이 들어갑니다.\n",
    "i = 0                     # 초기식\n",
    "while i < 100:            # while 조건식\n",
    "     print('Hello, world!')    # 반복할 코드\n",
    "     i += 1                    # 변화식"
   ]
  },
  {
   "cell_type": "markdown",
   "metadata": {},
   "source": [
    "while 반복문으로 'Hello, world' 100번 출력하기\n",
    "\n",
    "```py\n",
    ">>> i = 0\n",
    ">>> while i < 100:\n",
    "...      print('Hello, world!')\n",
    "...      i += 1\n",
    "... \n",
    "Hello, world!\n",
    "... (생략)\n",
    "Hello, world!\n",
    "Hello, world!\n",
    "Hello, world!\n",
    "```\n",
    "\n",
    "초깃값을 1부터 시작하기\n",
    "\n",
    "```py\n",
    ">>> i = 1\n",
    ">>> while i <= 100:\n",
    "...     print('Hello, world!', i)\n",
    "...     i += 1\n",
    "...\n",
    "Hello, world! 1\n",
    "Hello, world! 2\n",
    "Hello, world! 3\n",
    "...  (생략)\n",
    "Hello, world! 99\n",
    "Hello, world! 100\n",
    "```\n",
    "\n",
    "초깃값을 감소시키기\n",
    "\n",
    "```py\n",
    ">>> i = 100\n",
    ">>> while i > 0:\n",
    "...     print('Hello, world!', i)\n",
    "...     i -= 1\n",
    "...\n",
    "Hello, world! 100\n",
    "Hello, world! 99\n",
    "Hello, world! 98\n",
    "... (생략)\n",
    "Hello, world! 2\n",
    "Hello, world! 1\n",
    "```"
   ]
  },
  {
   "cell_type": "code",
   "execution_count": 2,
   "metadata": {},
   "outputs": [
    {
     "name": "stdout",
     "output_type": "stream",
     "text": [
      "Hello, world! 0\n",
      "Hello, world! 1\n",
      "Hello, world! 2\n",
      "Hello, world! 3\n",
      "Hello, world! 4\n",
      "Hello, world! 5\n",
      "Hello, world! 6\n",
      "Hello, world! 7\n",
      "Hello, world! 8\n",
      "Hello, world! 9\n"
     ]
    }
   ],
   "source": [
    "# 입력한 횟수대로 반복하기\n",
    "count = int(input('반복할 횟수를 입력하세요: '))\n",
    " \n",
    "i = 0\n",
    "while i < count:     # i가 count보다 작을 때 반복\n",
    "    print('Hello, world!', i)\n",
    "    i += 1"
   ]
  },
  {
   "cell_type": "code",
   "execution_count": 3,
   "metadata": {},
   "outputs": [
    {
     "name": "stdout",
     "output_type": "stream",
     "text": [
      "Hello, world! 10\n",
      "Hello, world! 9\n",
      "Hello, world! 8\n",
      "Hello, world! 7\n",
      "Hello, world! 6\n",
      "Hello, world! 5\n",
      "Hello, world! 4\n",
      "Hello, world! 3\n",
      "Hello, world! 2\n",
      "Hello, world! 1\n"
     ]
    }
   ],
   "source": [
    "# 초깃값을 받아 초깃값만큼 출력하기\n",
    "\n",
    "count = int(input('반복할 횟수를 입력하세요: '))\n",
    " \n",
    "while count > 0:     # count가 0보다 클 때 반복\n",
    "    print('Hello, world!', count)\n",
    "    count -= 1       # count를 1씩 감소시킴"
   ]
  },
  {
   "cell_type": "code",
   "execution_count": 4,
   "metadata": {},
   "outputs": [
    {
     "name": "stdout",
     "output_type": "stream",
     "text": [
      "0.28347458149437643\n",
      "10\n"
     ]
    }
   ],
   "source": [
    "# random 모듈 사용하기\n",
    "\n",
    "import random # random 모듈 가져오기\n",
    "\n",
    "print(random.random())\n",
    "print(random.randint(1, 10))"
   ]
  },
  {
   "cell_type": "code",
   "execution_count": 6,
   "metadata": {},
   "outputs": [
    {
     "name": "stdout",
     "output_type": "stream",
     "text": [
      "1\n",
      "2\n",
      "6\n",
      "4\n",
      "5\n",
      "5\n",
      "2\n",
      "1\n",
      "6\n",
      "1\n",
      "4\n",
      "3\n"
     ]
    }
   ],
   "source": [
    "# 주사위에 3이 나올때 까지 주사위 던지기\n",
    "\n",
    "i = 0\n",
    "while i != 3:    # 3이 아닐 때 계속 반복\n",
    "    i = random.randint(1, 6)    # randint를 사용하여 1과 6 사이의 난수를 생성\n",
    "    print(i)"
   ]
  },
  {
   "cell_type": "markdown",
   "metadata": {},
   "source": [
    "이제 이 코드를 여러 번 실행해봅니다.  \n",
    "실행 결과를 보면 정수가 무작위로 생성되어 실행할 때마다 반복 횟수가 달라지는 것을 볼 수 있습니다.  \n",
    "이처럼 while 반복문은 반복 횟수가 정해져 있지 않을 때 유용합니다.\n",
    "\n",
    "(참고)\n",
    "- random.choice 함수를 사용하면 시퀀스 객체에서 요소를 무작위로 선택할 수 있습니다.  \n",
    "다음은 1, 2, 3, 4, 5, 6이 들어있는 리스트에서 무작위로 숫자를 선택합니다.\n",
    "\n",
    "```py\n",
    ">>> dice = [1, 2, 3, 4, 5, 6]\n",
    ">>> random.choice(dice)\n",
    "1\n",
    ">>> random.choice(dice)\n",
    "4\n",
    ">>> random.choice(dice)\n",
    "3\n",
    "```\n",
    "\n",
    "물론 random.choice 함수는 시퀀스 객체를 받으므로 리스트뿐만 아니라 튜플, range, 문자열 등을 넣어도 됩니다."
   ]
  },
  {
   "cell_type": "code",
   "execution_count": 7,
   "metadata": {},
   "outputs": [],
   "source": [
    "# while 반복문을 사용해서 무한 루프 만들기\n",
    "\n",
    "# while True:    # while에 True를 지정하면 무한 루프\n",
    "#     print('Hello, world!')"
   ]
  },
  {
   "cell_type": "code",
   "execution_count": 10,
   "metadata": {},
   "outputs": [
    {
     "name": "stdout",
     "output_type": "stream",
     "text": [
      "2 5\n",
      "4 4\n",
      "8 3\n",
      "16 2\n",
      "32 1\n"
     ]
    }
   ],
   "source": [
    "# 변수 두개를 다르게 반복하기\n",
    "\n",
    "i = 2\n",
    "j = 5\n",
    "\n",
    "while j >= 1:\n",
    "    print(i, j)\n",
    "    i = i * 2\n",
    "    j = j - 1"
   ]
  },
  {
   "cell_type": "code",
   "execution_count": 12,
   "metadata": {},
   "outputs": [
    {
     "name": "stdout",
     "output_type": "stream",
     "text": [
      "12150\n",
      "10800\n",
      "9450\n",
      "8100\n",
      "6750\n",
      "5400\n",
      "4050\n",
      "2700\n",
      "1350\n",
      "0\n"
     ]
    }
   ],
   "source": [
    "i= int(input())\n",
    "while i >= 1350:\n",
    "    i = i - 1350\n",
    "    print(i)"
   ]
  }
 ],
 "metadata": {
  "interpreter": {
   "hash": "8b5a2dc140a748b3c0593d64dd7e576a45747718c411ae752b05b41c160c08a2"
  },
  "kernelspec": {
   "display_name": "Python 3.10.4 ('jupyter')",
   "language": "python",
   "name": "python3"
  },
  "language_info": {
   "codemirror_mode": {
    "name": "ipython",
    "version": 3
   },
   "file_extension": ".py",
   "mimetype": "text/x-python",
   "name": "python",
   "nbconvert_exporter": "python",
   "pygments_lexer": "ipython3",
   "version": "3.10.4"
  },
  "orig_nbformat": 4
 },
 "nbformat": 4,
 "nbformat_minor": 2
}
