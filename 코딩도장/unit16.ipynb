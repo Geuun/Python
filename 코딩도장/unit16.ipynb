{
 "cells": [
  {
   "cell_type": "markdown",
   "metadata": {},
   "source": [
    "for 와 range 사용하기\n",
    "\n",
    "- 반복문의 변수 i\n",
    "    - 변수 i를 루프 인덱스라고도 부르며 index의 첫 머리 글자를 따서 i를 주로 사용합니다.\n",
    "\n",
    "- 버전별로 range의 차이점이 있습니다.\n",
    "    - 파이썬 2.7과 파이썬 3에서 range의 결과는 조금 다릅니다.  \n",
    "    2.7에서는 실제로 숫자가 들어있는 리스트를 만들어내고  \n",
    "    3에서는 range 객체 (반복 가능한 객체)를 만들어냅니다."
   ]
  },
  {
   "cell_type": "markdown",
   "metadata": {},
   "source": [
    "(참고)\n",
    "반복문의 변수 i 를 변경할 수 있을까?\n",
    "\n",
    "```py\n",
    ">>> for i in range(10):\n",
    "...     print(i, end=' ')\n",
    "...     i = 10 \n",
    "...\n",
    "0 1 2 3 4 5 6 7 8 9\n",
    "```\n",
    "\n",
    "- 반복할 코드에서 변수 i에 10을 할당하여 10이 출력될 것 같은데, 0부터 9까지 출력되었습니다. 왜냐하면 변수 i는 반복할 때마다 다음 값으로 덮어써지기 때문에 값을 할당해도 변수에 영향을 주지 못합니다."
   ]
  },
  {
   "cell_type": "code",
   "execution_count": 8,
   "metadata": {},
   "outputs": [
    {
     "name": "stdout",
     "output_type": "stream",
     "text": [
      "490 -170 250 1020 80 620 210 "
     ]
    }
   ],
   "source": [
    "x = [49, -17, 25, 102, 8, 62, 21]\n",
    "\n",
    "for i in x :\n",
    "    print(i * 10, end=' ')"
   ]
  },
  {
   "cell_type": "code",
   "execution_count": 12,
   "metadata": {},
   "outputs": [
    {
     "name": "stdout",
     "output_type": "stream",
     "text": [
      "2 * 1 = 2\n",
      "2 * 2 = 4\n",
      "2 * 3 = 6\n",
      "2 * 4 = 8\n",
      "2 * 5 = 10\n",
      "2 * 6 = 12\n",
      "2 * 7 = 14\n",
      "2 * 8 = 16\n",
      "2 * 9 = 18\n"
     ]
    }
   ],
   "source": [
    "# 표준 입력으로 정수가 입력됩니다. 입력된 정수의 구구단을 출력하는 프로그램을 만드세요(input에서 안내 문자열은 출력하지 않아야 합니다). 출력 형식은 숫자 * 숫자 = 숫자처럼 만들고 숫자와 *, = 사이는 공백을 한 칸 띄웁니다.\n",
    "\n",
    "x = int(input())\n",
    "for i in range(1, 10) :\n",
    "    print(f'{x} * {i} = {x * i}')"
   ]
  }
 ],
 "metadata": {
  "interpreter": {
   "hash": "8b5a2dc140a748b3c0593d64dd7e576a45747718c411ae752b05b41c160c08a2"
  },
  "kernelspec": {
   "display_name": "Python 3.10.4 ('jupyter')",
   "language": "python",
   "name": "python3"
  },
  "language_info": {
   "codemirror_mode": {
    "name": "ipython",
    "version": 3
   },
   "file_extension": ".py",
   "mimetype": "text/x-python",
   "name": "python",
   "nbconvert_exporter": "python",
   "pygments_lexer": "ipython3",
   "version": "3.10.4"
  },
  "orig_nbformat": 4
 },
 "nbformat": 4,
 "nbformat_minor": 2
}
