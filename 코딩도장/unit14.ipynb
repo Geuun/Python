{
 "cells": [
  {
   "cell_type": "markdown",
   "metadata": {},
   "source": [
    "else 를 사용하여 두 방향으로 분기하기\n",
    "\n",
    "- if 조건문은 분기(branch)를 위한 문법이다. 즉, 분기는 '둘 이상으로 갈라지다' 라는 뜻으로 프로그램의 흐름을 둘 이상으로 나누는 것을 말한다.\n",
    "\n",
    "- 지금까지 if 조건문으로 조건식에 맞는 코드만 실행했다. if에 else를 사용하면 조건식이 만족할 때와 만족하지 않을 때 각각 다른 코드를 실행할 수 있다. 즉, 프로그램이 두 방향으로 분기하는 것이다.\n",
    "\n",
    "- 실생활에서 예를들어보면 아래와 같다.\n",
    "\n",
    "```py\n",
    "if 광고 전화인가?:\n",
    "    전화를 끊고, 차단 목록에 등록한다.\n",
    "else:\n",
    "    계속 통화한다.\n",
    "```\n",
    "\n",
    "(참고) 변수에 값 할당을 if,else 로 축약하기.\n",
    "\n",
    "- 변수 x에 10이 들어있으면 y에 x를 할당하고, 아니면 y에 0을 할당하는 코드는 다음과 같이 만들 수 있다.\n",
    "\n",
    "```py\n",
    ">>> x = 5\n",
    ">>> if x == 10:\n",
    "...     y = x\n",
    "... else:\n",
    "...     y = 0\n",
    "...\n",
    ">>> y\n",
    "0\n",
    "```\n",
    "\n",
    "- 이렇게 if, else에서 변수에 값을 할당할 때는  \n",
    "| 변수 = 값 if 조건문 else 값 | 형식으로 축약할 수 있으며 이런 문법을 조건부 표현식 (conditional expression)이라고 부른다.\n",
    "\n",
    "```py\n",
    ">>> x = 5\n",
    ">>> y = x if x == 10 else 0\n",
    ">>> y\n",
    "0\n",
    "```\n",
    "\n",
    "- 보통 조건부 표현식은 람다 표현식에서 자주 사용한다."
   ]
  },
  {
   "cell_type": "markdown",
   "metadata": {},
   "source": [
    "if 조건문에 숫자 지정하기\n",
    "\n",
    "- 숫자는 정수(2진수, 10진수, 16진수), 실수와 관계없이 0이면 거짓 아닌수는 참이다.\n",
    "\n",
    "if 조건문에 문자열 지정하기\n",
    "\n",
    "- 문자열은 내용이 있을 때 참, 빈 문자열은 거짓이다.\n",
    "\n",
    "(참고) 0, None, 빈 문자열을 not으로 뒤집으면?\n",
    "\n",
    "- 0, None, 빈 문자열 ''을 not으로 뒤집으면 참(True)이 되므로 if를 동작시킬 수 있다.\n",
    "\n",
    "(참고) True, False로 취급하는 것들\n",
    "\n",
    "False로 취급하는 것들\n",
    "\n",
    "- None, False, 0인 숫자 , 비어있는 문자열, 리스트, 튜플, 딕셔너리, 세트, 클래스 인스턴스의 __bool__(), __len__(), 메서드가 0 또는 False를 반환할 때 앞에서 나열한 것들을 제외한 모든 요소들은 True로 취급한다."
   ]
  },
  {
   "cell_type": "markdown",
   "metadata": {},
   "source": [
    "조건식을 여러 개 지정하기\n",
    "\n",
    "- 지금까지 if에 조건식을 하나만 지정했지만, 만약 조건이 복잡하다면 어떡해야할까?\n",
    "\n",
    "- if 조건문에는 논리 연산자를 사용해서 조건식을 여러 개 지정할 수 있다.\n",
    "\n",
    "중첩 if 조건문과 논리 연산자\n",
    "\n",
    "- 보통 여러 조건을 판단할 때 if를 계속 나열해서 중첩 if 조건문으로 만드는 경우가 많다. \n",
    "\n",
    "```py\n",
    "if x > 0:\n",
    "    if x < 20:\n",
    "        print('20보다 작은 양수입니다.')\n",
    "```\n",
    "\n",
    "- 위와같은 if 조건문은 and 논리 연산자를 사용해서 if 하나로 줄일 수 있다.\n",
    "\n",
    "```py\n",
    "if x > 0 and x < 20:\n",
    "    print('20보다 작은 양수입니다.')\n",
    "\n",
    "if 0 < x < 20:\n",
    "    print('20보다 작은 양수입니다.')\n",
    "```"
   ]
  },
  {
   "cell_type": "code",
   "execution_count": 2,
   "metadata": {},
   "outputs": [
    {
     "name": "stdout",
     "output_type": "stream",
     "text": [
      "불합격\n"
     ]
    }
   ],
   "source": [
    "# A 기업의 입사 시험은 필기 시험 점수가 80점 이상이면서 코딩 시험을 통과해야 합격이라고 정했습니다(코딩 시험 통과 여부는 True, False로 구분). 다음 소스 코드를 완성하여 '합격', '불합격'이 출력되게 만드세요.\n",
    "\n",
    "written_test = 75\n",
    "coding_test = True\n",
    " \n",
    "if written_test >= 80 and coding_test == True:\n",
    "    print('합격')\n",
    "else:\n",
    "    print('불합격')"
   ]
  },
  {
   "cell_type": "code",
   "execution_count": 3,
   "metadata": {},
   "outputs": [
    {
     "name": "stdout",
     "output_type": "stream",
     "text": [
      "잘못된 점수\n"
     ]
    }
   ],
   "source": [
    "# 표준 입력으로 국어, 영어, 수학, 과학 점수가 입력됩니다. 여기서 네 과목의 평균 점수가 80점 이상일 때 합격이라고 정했습니다. 평균 점수에 따라 '합격', '불합격'을 출력하는 프로그램을 만드세요(input에서 안내 문자열은 출력하지 않아야 합니다). 단, 점수는 0점부터 100점까지만 입력받을 수 있으며 범위를 벗어났다면 '잘못된 점수'를 출력하고 합격, 불합격 여부는 출력하지 않아야 합니다.\n",
    "\n",
    "국어, 영어, 수학, 과학 = map(int, input().split(' '))\n",
    "\n",
    "if 국어 < 0 or 국어 > 100 or 영어 < 0 or 영어 > 100 or 수학 < 0 or 수학 > 100 or 과학 < 0 or 과학 > 100 :\n",
    "    print('잘못된 점수')\n",
    "    \n",
    "elif ( 국어 + 영어 + 수학 + 과학 ) / 4 >= 80:\n",
    "    print('합격')\n",
    "\n",
    "else :\n",
    "    print('불합격')"
   ]
  }
 ],
 "metadata": {
  "interpreter": {
   "hash": "31f2aee4e71d21fbe5cf8b01ff0e069b9275f58929596ceb00d14d90e3e16cd6"
  },
  "kernelspec": {
   "display_name": "Python 3.8.9 64-bit",
   "language": "python",
   "name": "python3"
  },
  "language_info": {
   "codemirror_mode": {
    "name": "ipython",
    "version": 3
   },
   "file_extension": ".py",
   "mimetype": "text/x-python",
   "name": "python",
   "nbconvert_exporter": "python",
   "pygments_lexer": "ipython3",
   "version": "3.8.9"
  },
  "orig_nbformat": 4
 },
 "nbformat": 4,
 "nbformat_minor": 2
}
